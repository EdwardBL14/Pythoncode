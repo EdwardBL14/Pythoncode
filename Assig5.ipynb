{
 "cells": [
  {
   "cell_type": "code",
   "execution_count": 1,
   "id": "c739c6d5-b405-4014-bae8-7de1cac67ea7",
   "metadata": {},
   "outputs": [],
   "source": [
    "import numpy as np\n",
    "import random as random\n",
    "import matplotlib.pyplot as plt\n",
    "import seaborn as sns\n",
    "import matplotlib.cm as cm\n",
    "\n",
    "def Spiral(x):\n",
    "    x = int(x)\n",
    "    add = 0\n",
    "    if x >= 7:\n",
    "        if x%2 ==1:\n",
    "            x = x+1\n",
    "        x_ = x - 6\n",
    "        add = int(x_/2)\n",
    "    array = np.zeros((x, x))\n",
    "    if x%2 == 1:\n",
    "        array[int((x-1)/2),int((x-1)/2)] = 1\n",
    "    elif x%2 ==0:\n",
    "        array[int((x)/2),int((x-2)/2)] = 1\n",
    "    indices = np.where(array == 1)\n",
    "    row_index, col_index = indices\n",
    "    row = int(row_index)\n",
    "    col = int(col_index) + 1\n",
    "    array[row,col] = 2\n",
    "    count = 2\n",
    "    nextnum = int(3)\n",
    "    for k in range(int(x**2 + add)):\n",
    "        if count == 1:\n",
    "            if array[row-1,col] == 0:\n",
    "                count = 2\n",
    "            if array[row-1,col] !=0:\n",
    "                array[row,col+1] = nextnum\n",
    "                nextnum = nextnum + 1\n",
    "                col = col +1\n",
    "        if count == 2:\n",
    "            if array[row,col-1] == 0:\n",
    "                count = 3\n",
    "            if array[row,col-1] != 0:\n",
    "                array[row-1,col] = nextnum\n",
    "                nextnum = nextnum + 1\n",
    "                row = row -1\n",
    "        if count == 3:\n",
    "            if array[row+1,col] == 0:\n",
    "                count = 4\n",
    "            if array[row+1,col] !=0:\n",
    "                array[row,col-1] = nextnum\n",
    "                nextnum = nextnum + 1\n",
    "                col = col -1\n",
    "        if count == 4:\n",
    "            if array[row,col+1] == 0:\n",
    "                count = 1\n",
    "            if array[row,col+1] !=0:\n",
    "                array[row+1,col] = nextnum\n",
    "                nextnum = nextnum + 1\n",
    "                row = row +1\n",
    "   # print(array)\n",
    "    return array\n",
    "    "
   ]
  },
  {
   "cell_type": "code",
   "execution_count": 5,
   "id": "ed3e3162-678c-465f-b291-83d09df3e025",
   "metadata": {
    "tags": []
   },
   "outputs": [
    {
     "name": "stdout",
     "output_type": "stream",
     "text": [
      "[[64. 63. 62. 61. 60. 59. 58. 57.]\n",
      " [37. 36. 35. 34. 33. 32. 31. 56.]\n",
      " [38. 17. 16. 15. 14. 13. 30. 55.]\n",
      " [39. 18.  5.  4.  3. 12. 29. 54.]\n",
      " [40. 19.  6.  1.  2. 11. 28. 53.]\n",
      " [41. 20.  7.  8.  9. 10. 27. 52.]\n",
      " [42. 21. 22. 23. 24. 25. 26. 51.]\n",
      " [43. 44. 45. 46. 47. 48. 49. 50.]]\n"
     ]
    }
   ],
   "source": [
    "print(Spiral(7))"
   ]
  },
  {
   "cell_type": "code",
   "execution_count": 100,
   "id": "4cb7eb81-42a4-4809-9f03-27d8aa33e4f8",
   "metadata": {},
   "outputs": [
    {
     "name": "stdout",
     "output_type": "stream",
     "text": [
      "[[1000000.  999999.  999998. ...  999003.  999002.  999001.]\n",
      " [ 996005.  996004.  996003. ...  995008.  995007.  999000.]\n",
      " [ 996006.  992017.  992016. ...  991021.  995006.  998999.]\n",
      " ...\n",
      " [ 997001.  993012.  989031. ...  990026.  994011.  998004.]\n",
      " [ 997002.  993013.  993014. ...  994009.  994010.  998003.]\n",
      " [ 997003.  997004.  997005. ...  998000.  998001.  998002.]]\n"
     ]
    }
   ],
   "source": [
    "array = Spiral(1000)\n",
    "print(array)"
   ]
  },
  {
   "cell_type": "code",
   "execution_count": 10,
   "id": "c919bf8c-067c-46dd-947a-5e04c401e91b",
   "metadata": {},
   "outputs": [
    {
     "name": "stdout",
     "output_type": "stream",
     "text": [
      "[[20232005. 20232004. 20232003. ... 20227508. 20227507. 20245500.]\n",
      " [20232006. 20214017. 20214016. ... 20209521. 20227506. 20245499.]\n",
      " [20232007. 20214018. 20196037. ... 20209520. 20227505. 20245498.]\n",
      " ...\n",
      " [20236501. 20218512. 20200531. ... 20205026. 20223011. 20241004.]\n",
      " [20236502. 20218513. 20218514. ... 20223009. 20223010. 20241003.]\n",
      " [20236503. 20236504. 20236505. ... 20241000. 20241001. 20241002.]]\n"
     ]
    }
   ],
   "source": [
    "array_yearyear = Spiral(4500)\n",
    "array_yearyear = np.delete(array_yearyear, 0, axis=0) #I get rid of the first row as it messes up my co-ordination calculations i did in latex\n",
    "print(array_yearyear)"
   ]
  },
  {
   "cell_type": "code",
   "execution_count": 14,
   "id": "3f2da805-1a8b-493c-91fb-8983afd0b52f",
   "metadata": {},
   "outputs": [
    {
     "name": "stdout",
     "output_type": "stream",
     "text": [
      "20242024.0\n"
     ]
    }
   ],
   "source": [
    "b = array_yearyear[3477-1][4500-1]\n",
    "print(b)"
   ]
  },
  {
   "cell_type": "code",
   "execution_count": 16,
   "id": "1e7c6287-a38d-498b-99f3-401fee194775",
   "metadata": {},
   "outputs": [],
   "source": [
    "def isprime(number):\n",
    "    if number <= 1:\n",
    "        return 0\n",
    "    for i in range(2, int(number**0.5) + 1):\n",
    "        if number % i == 0:\n",
    "            return 0\n",
    "    return 1"
   ]
  },
  {
   "cell_type": "code",
   "execution_count": 65,
   "id": "3c89a01b-0912-4163-887d-5e6e7202b02d",
   "metadata": {},
   "outputs": [],
   "source": [
    "def mod2(array):\n",
    "    n= array.shape[0]\n",
    "    for k in range(n):\n",
    "        for l in range(n):\n",
    "            val = int(array[k,l])\n",
    "            if val % 2 ==0:\n",
    "                array[k,l] = 1\n",
    "            else:\n",
    "                array[k,l] = 0\n",
    "    return array\n",
    "                \n",
    "            "
   ]
  },
  {
   "cell_type": "code",
   "execution_count": 122,
   "id": "c7bc309a-0031-4f85-9228-81e9ef196ebb",
   "metadata": {},
   "outputs": [],
   "source": [
    "def mod(array,mod):\n",
    "    n= array.shape[0]\n",
    "    for k in range(n):\n",
    "        for l in range(n):\n",
    "            val = int(array[k,l])\n",
    "            for i in range(mod):\n",
    "                i = int(i+1)\n",
    "                if val % mod ==i:\n",
    "                    array[k,l] = i\n",
    "                    break\n",
    "                if i == mod:\n",
    "                    array[k,l] = 0\n",
    "                    break\n",
    "                    \n",
    "    return array\n",
    "                "
   ]
  },
  {
   "cell_type": "code",
   "execution_count": 50,
   "id": "832fbc20-f865-4f73-b26e-416e88468041",
   "metadata": {},
   "outputs": [],
   "source": [
    "def Primes(array):\n",
    "    n = array.shape[0]\n",
    "    for k in range(n):\n",
    "        for l in range(n):\n",
    "            val = int(array[k,l])\n",
    "            array[k,l] = isprime(val)               \n",
    "    return array\n",
    "        \n"
   ]
  },
  {
   "cell_type": "code",
   "execution_count": 114,
   "id": "2a68a7ef-19c3-4b72-b289-5ba1ca7883f8",
   "metadata": {},
   "outputs": [
    {
     "name": "stdout",
     "output_type": "stream",
     "text": [
      "[[16. 15. 14. 17.]\n",
      " [ 5.  4.  3. 12.]\n",
      " [ 6.  1.  2. 11.]\n",
      " [ 7.  8.  9. 10.]]\n",
      "[[1. 0. 1. ... 0. 1. 0.]\n",
      " [0. 1. 0. ... 1. 0. 1.]\n",
      " [1. 0. 1. ... 0. 1. 0.]\n",
      " ...\n",
      " [0. 1. 0. ... 1. 0. 1.]\n",
      " [1. 0. 1. ... 0. 1. 0.]\n",
      " [0. 1. 0. ... 1. 0. 1.]]\n"
     ]
    }
   ],
   "source": [
    "array2 = mod2(Spiral(100))\n",
    "print(Spiral(4))\n",
    "print(array2)"
   ]
  },
  {
   "cell_type": "code",
   "execution_count": 159,
   "id": "c3bd76f2-da8c-47fb-9593-cc3ede734490",
   "metadata": {},
   "outputs": [
    {
     "name": "stdout",
     "output_type": "stream",
     "text": [
      "[[1. 0. 8. ... 5. 4. 3.]\n",
      " [1. 0. 8. ... 5. 4. 2.]\n",
      " [2. 8. 7. ... 4. 3. 1.]\n",
      " ...\n",
      " [5. 2. 7. ... 1. 0. 7.]\n",
      " [6. 3. 4. ... 7. 8. 6.]\n",
      " [7. 8. 0. ... 3. 4. 5.]]\n"
     ]
    }
   ],
   "source": [
    "arraymod = mod(Spiral(80),9)\n",
    "print(arraymod)"
   ]
  },
  {
   "cell_type": "code",
   "execution_count": 160,
   "id": "9c137fe6-9b1d-428a-8926-63f677c363ae",
   "metadata": {},
   "outputs": [
    {
     "data": {
      "image/png": "[encoded data removed]",
      "text/plain": [
       "<Figure size 480x480 with 1 Axes>"
      ]
     },
     "metadata": {},
     "output_type": "display_data"
    }
   ],
   "source": [
    "plt.matshow(arraymod, cmap = 'jet')\n",
    "plt.axis('off')\n",
    "plt.show()"
   ]
  },
  {
   "cell_type": "code",
   "execution_count": 156,
   "id": "b02cfac7-cb14-4c59-916f-1d304eac4da1",
   "metadata": {},
   "outputs": [
    {
     "name": "stdout",
     "output_type": "stream",
     "text": [
      "[[0. 0. 0. ... 0. 0. 0.]\n",
      " [0. 0. 0. ... 0. 0. 0.]\n",
      " [0. 1. 0. ... 0. 0. 0.]\n",
      " ...\n",
      " [0. 0. 0. ... 0. 0. 0.]\n",
      " [0. 0. 0. ... 0. 0. 0.]\n",
      " [0. 0. 0. ... 0. 0. 0.]]\n"
     ]
    }
   ],
   "source": [
    "arrayp = Primes(Spiral(130))\n",
    "print(arrayp)"
   ]
  },
  {
   "cell_type": "code",
   "execution_count": 20,
   "id": "878f5b83-8096-45a8-a67b-f5f0e8645daf",
   "metadata": {},
   "outputs": [
    {
     "data": {
      "text/plain": [
       "0"
      ]
     },
     "execution_count": 20,
     "metadata": {},
     "output_type": "execute_result"
    }
   ],
   "source": [
    "isprime(-1)"
   ]
  },
  {
   "cell_type": "code",
   "execution_count": 157,
   "id": "b890c484-568e-4b49-8ee0-2e90eebe32e7",
   "metadata": {},
   "outputs": [
    {
     "data": {
      "image/png": "[encoded data removed]",
      "text/plain": [
       "<Figure size 480x480 with 1 Axes>"
      ]
     },
     "metadata": {},
     "output_type": "display_data"
    }
   ],
   "source": [
    "plt.matshow(arrayp, cmap = cm.binary)\n",
    "plt.axis('off')\n",
    "plt.show()"
   ]
  }
 ],
 "metadata": {
  "kernelspec": {
   "display_name": "Python 3 (ipykernel)",
   "language": "python",
   "name": "python3"
  },
  "language_info": {
   "codemirror_mode": {
    "name": "ipython",
    "version": 3
   },
   "file_extension": ".py",
   "mimetype": "text/x-python",
   "name": "python",
   "nbconvert_exporter": "python",
   "pygments_lexer": "ipython3",
   "version": "3.9.13"
  }
 },
 "nbformat": 4,
 "nbformat_minor": 5
}
