{
 "cells": [
  {
   "cell_type": "code",
   "execution_count": 1,
   "id": "3637da65-95a8-4c68-bdb4-1ef3342b2257",
   "metadata": {},
   "outputs": [],
   "source": [
    "import numpy as np\n",
    "import random as random\n",
    "import matplotlib.pyplot as plt\n",
    "import seaborn as sns\n",
    "\n",
    "def hat(n):\n",
    "    array = range(1,n+1)\n",
    "    array = np.array(array)\n",
    "    #print(array)\n",
    "    for k in range(n):\n",
    "        a = int(len(array))\n",
    "        if a == 1:\n",
    "            break\n",
    "        r1 = random.randint(0, a - 1)\n",
    "        r2 = random.randint(0, a - 2)\n",
    "        x1 = array[r1]\n",
    "        #print(x1)\n",
    "        array = np.delete(array,r1)\n",
    "        x2 = array[r2]\n",
    "        #print(x2)\n",
    "        array = np.delete(array,r2)\n",
    "        diff = np.abs(x1-x2)\n",
    "        array = np.append(array,diff)\n",
    "        #print(array)\n",
    "    return array\n",
    "        \n",
    "        \n",
    "        "
   ]
  },
  {
   "cell_type": "code",
   "execution_count": 2,
   "id": "be054f68-63f4-4ed5-a792-5da07d27496e",
   "metadata": {},
   "outputs": [
    {
     "data": {
      "text/plain": [
       "array([322])"
      ]
     },
     "execution_count": 2,
     "metadata": {},
     "output_type": "execute_result"
    }
   ],
   "source": [
    "hat(2024)"
   ]
  },
  {
   "cell_type": "code",
   "execution_count": 27,
   "id": "3d553c69-cec9-4b3f-9a9b-740a5d2b4ea4",
   "metadata": {},
   "outputs": [],
   "source": [
    "sol = []\n",
    "for i in range(1000):\n",
    "    x = hat(2024)\n",
    "    a = x[0]\n",
    "    a = int(a)\n",
    "    sol = np.append(sol,a)\n"
   ]
  },
  {
   "cell_type": "code",
   "execution_count": 10,
   "id": "b22b313e-6a34-47d4-be1d-61361a4edcf5",
   "metadata": {
    "tags": []
   },
   "outputs": [
    {
     "data": {
      "image/png": "[encoded data removed]",
      "text/plain": [
       "<Figure size 640x480 with 1 Axes>"
      ]
     },
     "metadata": {},
     "output_type": "display_data"
    }
   ],
   "source": [
    "sns.histplot(sol, bins=50,\n",
    "stat = 'density')\n",
    "plt.show()"
   ]
  },
  {
   "cell_type": "code",
   "execution_count": 11,
   "id": "ee4a505e-fea8-4a36-88ba-48c61a4c912f",
   "metadata": {
    "collapsed": true,
    "jupyter": {
     "outputs_hidden": true
    },
    "tags": []
   },
   "outputs": [
    {
     "name": "stdout",
     "output_type": "stream",
     "text": [
      "[ 764.  492.   48.  196.   16.  542.  512.  688.  384.  760.  238.  390.\n",
      "  660.  122.   62.  114.  990.  592.  572.  294.  176.   42.   44.  214.\n",
      "    2.  410.   96.    6.  314.  788.   22.  748.  200.  132.  332.  896.\n",
      "  398.  256.   36.   82.  164.  250.  596.  700.  102.  904.  104.  552.\n",
      "   22.  796.  226.  178.    2.  526.  250.  212.  168.  256.  102.  278.\n",
      "  954.   30.   12.   80.   50.   88.  128.   32.  320.  186.   54.  510.\n",
      "  242.  446.  468.   58.  310.  240.  554.  786.  774.  406.  272.  410.\n",
      "  224.   52.  342. 1200.  154.  120. 1086.  488.   26. 1014.  178.  156.\n",
      "   44.  408.  154.  364.]\n"
     ]
    }
   ],
   "source": [
    "print(sol)"
   ]
  },
  {
   "cell_type": "code",
   "execution_count": 28,
   "id": "55ee8d3b-e7b8-42ae-8fd1-84d1d410041f",
   "metadata": {},
   "outputs": [
    {
     "name": "stdout",
     "output_type": "stream",
     "text": [
      "335.12\n"
     ]
    }
   ],
   "source": [
    "#average\n",
    "total = 0\n",
    "for r in range(int(len(sol))):\n",
    "    total = total + int(sol[r])\n",
    "    \n",
    "av = (total/(len(sol)))\n",
    "print(av)"
   ]
  },
  {
   "cell_type": "code",
   "execution_count": 15,
   "id": "9affedcc-8acc-493f-8dbf-34a81c5d25cf",
   "metadata": {},
   "outputs": [
    {
     "name": "stdout",
     "output_type": "stream",
     "text": [
      "334.38\n"
     ]
    }
   ],
   "source": []
  },
  {
   "cell_type": "code",
   "execution_count": 31,
   "id": "6de42cca-7840-4fe1-9aca-c7fb89fe7cbe",
   "metadata": {},
   "outputs": [],
   "source": [
    "for r in range(int(len(sol))):\n",
    "    x = int(sol[r])\n",
    "    if x%2 == 1:\n",
    "        print(Wrong)\n",
    "    "
   ]
  },
  {
   "cell_type": "code",
   "execution_count": 52,
   "id": "f6c13f5c-c79d-4b92-bac9-1db85dbcec5b",
   "metadata": {},
   "outputs": [],
   "source": [
    "def hat3(n):\n",
    "    array = range(1,n+1)\n",
    "    array = np.array(array)\n",
    "    #print(array)\n",
    "    for k in range(n):\n",
    "        a = int(len(array))\n",
    "        if a == 1:\n",
    "            break\n",
    "        if a == 2:\n",
    "            x1 = array[0]\n",
    "            x2 = array[1]\n",
    "            h = []\n",
    "            h = np.append(h,np.abs(x1-x2))\n",
    "            return h\n",
    "        r1 = random.randint(0, a - 1)\n",
    "        r2 = random.randint(0, a - 2)\n",
    "        r3 = random.randint(0, a - 3)\n",
    "        x1 = array[r1]\n",
    "        #print(x1)\n",
    "        array = np.delete(array,r1)\n",
    "        x2 = array[r2]\n",
    "        #print(x2)\n",
    "        array = np.delete(array,r2)\n",
    "        x3 = array[r3]\n",
    "        #print(x3)\n",
    "        array = np.delete(array,r3)\n",
    "        if x1 >= x2:\n",
    "            if x1 >= x3:\n",
    "                max_ = x1\n",
    "                if x2 >= x3:\n",
    "                    mid = x2\n",
    "                    min_ = x3\n",
    "                else:\n",
    "                    mid = x3\n",
    "                    min_= x2\n",
    "            if x3 >= x1:\n",
    "                max_ = x3\n",
    "                mid = x1\n",
    "                min_ = x2\n",
    "        if x2 >= x1:\n",
    "            if x2 >= x3:\n",
    "                max_ = x2\n",
    "                if x1 >= x3:\n",
    "                    mid = x1\n",
    "                    min_ = x3\n",
    "                else:\n",
    "                    mid = x3\n",
    "                    min_= x1\n",
    "            if x3 >= x2:\n",
    "                max_ = x3\n",
    "                mid = x2\n",
    "                min_ = x1\n",
    "        \n",
    "        diff1 = np.abs(max_ - mid)\n",
    "        diff2 = np.abs(mid - min_)\n",
    "        array = np.append(array,diff1)\n",
    "        array = np.append(array,diff2)\n",
    "        #print(array)\n",
    "    return array\n",
    "        "
   ]
  },
  {
   "cell_type": "code",
   "execution_count": 42,
   "id": "1c9cb603-f13d-431b-9521-943fd86a5520",
   "metadata": {},
   "outputs": [
    {
     "data": {
      "text/plain": [
       "1"
      ]
     },
     "execution_count": 42,
     "metadata": {},
     "output_type": "execute_result"
    }
   ],
   "source": [
    "hat3(10)"
   ]
  },
  {
   "cell_type": "code",
   "execution_count": 53,
   "id": "77ea3e72-2a8c-4867-ac50-08ab03f44388",
   "metadata": {},
   "outputs": [
    {
     "name": "stdout",
     "output_type": "stream",
     "text": [
      "[2.]\n",
      "[0.]\n",
      "[1.]\n",
      "[0.]\n",
      "[2.]\n",
      "[1.]\n",
      "[2.]\n",
      "[1.]\n",
      "[1.]\n",
      "[3.]\n",
      "[0.]\n",
      "[0.]\n",
      "[1.]\n",
      "[1.]\n",
      "[4.]\n",
      "[4.]\n",
      "[0.]\n",
      "[0.]\n",
      "[7.]\n",
      "[3.]\n"
     ]
    }
   ],
   "source": [
    "sol2 = []\n",
    "for k in range(20):\n",
    "    x= hat3(10)\n",
    "    print(x)"
   ]
  },
  {
   "cell_type": "code",
   "execution_count": 54,
   "id": "a9d5d80d-de0a-45a8-88e7-0aa83b2ac577",
   "metadata": {},
   "outputs": [
    {
     "data": {
      "image/png": "[encoded data removed]",
      "text/plain": [
       "<Figure size 640x480 with 1 Axes>"
      ]
     },
     "metadata": {},
     "output_type": "display_data"
    }
   ],
   "source": [
    "sol2 = []\n",
    "for i in range(1000):\n",
    "    x = hat3(200)\n",
    "    a = int(x[0])\n",
    "    a = int(a)\n",
    "    sol2 = np.append(sol2,a)\n",
    "    \n",
    "sns.histplot(sol2, bins=50,\n",
    "stat = 'density')\n",
    "plt.show()"
   ]
  },
  {
   "cell_type": "code",
   "execution_count": null,
   "id": "436c8312-34e8-4cc5-9934-ca3eeefa9b3d",
   "metadata": {},
   "outputs": [],
   "source": []
  }
 ],
 "metadata": {
  "kernelspec": {
   "display_name": "Python 3 (ipykernel)",
   "language": "python",
   "name": "python3"
  },
  "language_info": {
   "codemirror_mode": {
    "name": "ipython",
    "version": 3
   },
   "file_extension": ".py",
   "mimetype": "text/x-python",
   "name": "python",
   "nbconvert_exporter": "python",
   "pygments_lexer": "ipython3",
   "version": "3.9.13"
  }
 },
 "nbformat": 4,
 "nbformat_minor": 5
}
