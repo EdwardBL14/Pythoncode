{
 "cells": [
  {
   "cell_type": "code",
   "execution_count": 1,
   "id": "fba71d6e-9519-4d9d-ad51-4dafed3705e9",
   "metadata": {},
   "outputs": [],
   "source": [
    "import numpy as np\n",
    "import matplotlib.pyplot as plt"
   ]
  },
  {
   "cell_type": "code",
   "execution_count": 2,
   "id": "d8db2cb5-f583-4137-bce7-0faa887f0be5",
   "metadata": {},
   "outputs": [
    {
     "name": "stdout",
     "output_type": "stream",
     "text": [
      "[1 3 4 7 1 8 9 7 6 3 9 2 1 3 4 7 1 8 9 7 6 3 9 2 1 3 4 7 1 8 9 7 6 3 9 2 1\n",
      " 3 4 7 1 8 9 7 6 3 9 2 1 3 4 7 1 8 9 7 6 3 9 2 1 3 4 7 1 8 9 7 6 3 9 2 1 3\n",
      " 4 7 1 8 9 7 6 3 9 2 1 3 4 7 1 8 9 7 6 3 9 2 1 3 4 7 1 8]\n",
      "102\n"
     ]
    }
   ],
   "source": [
    "x1 = 1\n",
    "x2 = 3\n",
    "array  = [x1,x2]\n",
    "for l in range(100):\n",
    "    y1 = array[l]\n",
    "    y2 = array[l+1]\n",
    "    array = np.append(array, (y1+y2)%10)\n",
    "print(array)\n",
    "print(len(array))"
   ]
  },
  {
   "cell_type": "code",
   "execution_count": 3,
   "id": "fe649feb-e614-4ce5-8ebb-5a1f92d5a790",
   "metadata": {},
   "outputs": [
    {
     "name": "stdout",
     "output_type": "stream",
     "text": [
      "[1 3 4 7 1 8 9 7 6 3 9 2 1 3]\n"
     ]
    }
   ],
   "source": [
    "x1 = 1\n",
    "x2 = 3\n",
    "array1  = [x1,x2]\n",
    "for l in range(100):\n",
    "    y1 = array1[l]\n",
    "    y2 = array1[l+1]\n",
    "    y3 = (y1+y2)%10\n",
    "    array1 = np.append(array1, y3)\n",
    "    if y2 == x1 and y3 == x2:\n",
    "        break\n",
    "    \n",
    "    \n",
    "print(array1)\n"
   ]
  },
  {
   "cell_type": "code",
   "execution_count": 4,
   "id": "82e7e478-af63-4748-8f32-dd985d7f2679",
   "metadata": {},
   "outputs": [
    {
     "name": "stdout",
     "output_type": "stream",
     "text": [
      "[7 1 8 9 7 6 3 9 2 1 3 4 7 1]\n"
     ]
    }
   ],
   "source": [
    "x1 = 7\n",
    "x2 = 1\n",
    "array2  = [x1,x2]\n",
    "for l in range(100):\n",
    "    y1 = array2[l]\n",
    "    y2 = array2[l+1]\n",
    "    y3 = (y1+y2)%10\n",
    "    array2 = np.append(array2, y3)\n",
    "    if y2 == x1 and y3 == x2:\n",
    "        break\n",
    "    \n",
    "    \n",
    "print(array2)"
   ]
  },
  {
   "cell_type": "code",
   "execution_count": 5,
   "id": "ae495f9e-d22e-4528-884a-78d5b9001493",
   "metadata": {},
   "outputs": [],
   "source": [
    "def sameseq(A,B):\n",
    "    if len(A) == len(B):\n",
    "        x1 = A[0]\n",
    "        x2 = A[1]\n",
    "        for k in range(len(B)-1):\n",
    "            if B[k] == x1 and B[k+1] == x2:\n",
    "                return 0 # Initially print(\"Same sequence\")\n",
    "                break\n",
    "        return 1    \n",
    "    else:\n",
    "        return 1 # Initially print(\"Different sequence\")\n",
    "            \n",
    "            "
   ]
  },
  {
   "cell_type": "code",
   "execution_count": 6,
   "id": "5bc3b91b-3da4-420f-95dd-c340f7c6c1dc",
   "metadata": {},
   "outputs": [
    {
     "data": {
      "text/plain": [
       "0"
      ]
     },
     "execution_count": 6,
     "metadata": {},
     "output_type": "execute_result"
    }
   ],
   "source": [
    "sameseq(array1,array2)"
   ]
  },
  {
   "cell_type": "code",
   "execution_count": 7,
   "id": "aeba7b83-fa7c-4dfc-a1ec-d0bc1f6c7aee",
   "metadata": {
    "tags": []
   },
   "outputs": [],
   "source": [
    "\n",
    "BSeqs = []\n",
    "for k in range(10):\n",
    "    x1 = k\n",
    "    for r in range(10):\n",
    "        x2 = r\n",
    "        array = [x1,x2]\n",
    "        for l in range(200):\n",
    "            y1 = array[l]\n",
    "            y2 = array[l+1]\n",
    "            y3 = (y1+y2)%10\n",
    "            array = np.append(array, y3)\n",
    "            if y2 == x1 and y3 == x2:\n",
    "                break\n",
    "        BSeqs.append(array)"
   ]
  },
  {
   "cell_type": "code",
   "execution_count": 8,
   "id": "16889266-8ed6-49f6-9a11-a88f1a882ed9",
   "metadata": {
    "tags": []
   },
   "outputs": [
    {
     "data": {
      "text/plain": [
       "0"
      ]
     },
     "execution_count": 8,
     "metadata": {},
     "output_type": "execute_result"
    }
   ],
   "source": [
    "sameseq(BSeqs [24] ,BSeqs [82])"
   ]
  },
  {
   "cell_type": "code",
   "execution_count": 9,
   "id": "3db14beb-28c8-40b8-9233-76d3a96e53d1",
   "metadata": {},
   "outputs": [
    {
     "name": "stdout",
     "output_type": "stream",
     "text": [
      "[0 1 1 2 3 5 8 3 1 4 5 9 4 3 7 0 7 7 4 1 5 6 1 7 8 5 3 8 1 9 0 9 9 8 7 5 2\n",
      " 7 9 6 5 1 6 7 3 0 3 3 6 9 5 4 9 3 2 5 7 2 9 1 0 1]\n"
     ]
    }
   ],
   "source": [
    "print(BSeqs[1])"
   ]
  },
  {
   "cell_type": "code",
   "execution_count": 10,
   "id": "516a698e-6b89-4ce1-beea-51983e2a3dfe",
   "metadata": {},
   "outputs": [
    {
     "name": "stdout",
     "output_type": "stream",
     "text": [
      "[array([0, 0, 0]), array([0, 1, 1, 2, 3, 5, 8, 3, 1, 4, 5, 9, 4, 3, 7, 0, 7, 7, 4, 1, 5, 6,\n",
      "       1, 7, 8, 5, 3, 8, 1, 9, 0, 9, 9, 8, 7, 5, 2, 7, 9, 6, 5, 1, 6, 7,\n",
      "       3, 0, 3, 3, 6, 9, 5, 4, 9, 3, 2, 5, 7, 2, 9, 1, 0, 1])]\n",
      "6\n"
     ]
    }
   ],
   "source": [
    "\n",
    "UniSeqs = BSeqs[:2]\n",
    "\n",
    "for k in range(99):\n",
    "    array = BSeqs[k+1]\n",
    "    Total = 0\n",
    "    for r in range(len(UniSeqs)):\n",
    "        Unique = UniSeqs[r]\n",
    "        if sameseq(Unique,array) == 0:\n",
    "            Total += 0            \n",
    "        elif sameseq(Unique,array) == 1:\n",
    "            Total += 1\n",
    "    if Total == len(UniSeqs):\n",
    "        UniSeqs.append(BSeqs[k+1])\n",
    "\n",
    "print(len(UniSeqs))"
   ]
  },
  {
   "cell_type": "code",
   "execution_count": 11,
   "id": "22912bcd-a956-48f5-b3c6-db0783172c3a",
   "metadata": {},
   "outputs": [
    {
     "name": "stdout",
     "output_type": "stream",
     "text": [
      "[array([0, 0, 0]), array([0, 1, 1, 2, 3, 5, 8, 3, 1, 4, 5, 9, 4, 3, 7, 0, 7, 7, 4, 1, 5, 6,\n",
      "       1, 7, 8, 5, 3, 8, 1, 9, 0, 9, 9, 8, 7, 5, 2, 7, 9, 6, 5, 1, 6, 7,\n",
      "       3, 0, 3, 3, 6, 9, 5, 4, 9, 3, 2, 5, 7, 2, 9, 1, 0, 1]), array([0, 2, 2, 4, 6, 0, 6, 6, 2, 8, 0, 8, 8, 6, 4, 0, 4, 4, 8, 2, 0, 2]), array([0, 5, 5, 0, 5]), array([1, 3, 4, 7, 1, 8, 9, 7, 6, 3, 9, 2, 1, 3]), array([2, 6, 8, 4, 2, 6])]\n"
     ]
    }
   ],
   "source": [
    "print(UniSeqs)"
   ]
  },
  {
   "cell_type": "code",
   "execution_count": 12,
   "id": "4ae73a1f-5ca4-4914-8863-23b1d693b5f3",
   "metadata": {},
   "outputs": [
    {
     "name": "stdout",
     "output_type": "stream",
     "text": [
      "100\n"
     ]
    }
   ],
   "source": [
    "Length = 0\n",
    "for k in range(len(UniSeqs)):\n",
    "    Length += len(UniSeqs[k]) -2\n",
    "    \n",
    "print(Length)"
   ]
  },
  {
   "cell_type": "code",
   "execution_count": 47,
   "id": "613e3839-ec39-440a-a81d-82896d1ba53e",
   "metadata": {},
   "outputs": [
    {
     "name": "stdout",
     "output_type": "stream",
     "text": [
      "[array([0, 0, 0]), array([ 0,  1,  1,  2,  3,  5,  8, 13,  7,  6, 13,  5,  4,  9, 13,  8,  7,\n",
      "        1,  8,  9,  3, 12,  1, 13,  0, 13, 13, 12, 11,  9,  6,  1,  7,  8,\n",
      "        1,  9, 10,  5,  1,  6,  7, 13,  6,  5, 11,  2, 13,  1,  0,  1])]\n",
      "8\n",
      "196\n",
      "196\n"
     ]
    }
   ],
   "source": [
    "Mod = 14\n",
    "BSeqs_ = []\n",
    "for k in range(Mod):\n",
    "    x1 = k\n",
    "    for r in range(Mod):\n",
    "        x2 = r\n",
    "        array = [x1,x2]\n",
    "        for l in range((300)):\n",
    "            y1 = array[l]\n",
    "            y2 = array[l+1]\n",
    "            y3 = (y1+y2)%(Mod)\n",
    "            array = np.append(array, y3)\n",
    "            if y2 == x1 and y3 == x2:\n",
    "                break\n",
    "        BSeqs_.append(array)\n",
    "\n",
    "        \n",
    "\n",
    "UniSeqs_ = BSeqs_[:2]\n",
    "\n",
    "print(UniSeqs_)\n",
    "\n",
    "\n",
    "for k in range((Mod**2)-1):\n",
    "    array = BSeqs_[k+1]\n",
    "    Total = 0\n",
    "    for r in range(len(UniSeqs_)):\n",
    "        Unique = UniSeqs_[r]\n",
    "        if sameseq(Unique,array) == 0:\n",
    "            Total += 0            \n",
    "        elif sameseq(Unique,array) == 1:\n",
    "            Total += 1\n",
    "    if Total == len(UniSeqs_):\n",
    "        UniSeqs_.append(array)\n",
    "\n",
    "print(len(UniSeqs_)) \n",
    "\n",
    "Length = 0\n",
    "for k in range(len(UniSeqs_)):\n",
    "    Length += len(UniSeqs_[k]) -2\n",
    "    \n",
    "print(Length)\n",
    "print(Mod**2)"
   ]
  },
  {
   "cell_type": "code",
   "execution_count": null,
   "id": "40409752-65dc-4c69-8a00-c51cb9ead629",
   "metadata": {},
   "outputs": [],
   "source": []
  }
 ],
 "metadata": {
  "kernelspec": {
   "display_name": "Python 3 (ipykernel)",
   "language": "python",
   "name": "python3"
  },
  "language_info": {
   "codemirror_mode": {
    "name": "ipython",
    "version": 3
   },
   "file_extension": ".py",
   "mimetype": "text/x-python",
   "name": "python",
   "nbconvert_exporter": "python",
   "pygments_lexer": "ipython3",
   "version": "3.9.13"
  }
 },
 "nbformat": 4,
 "nbformat_minor": 5
}
